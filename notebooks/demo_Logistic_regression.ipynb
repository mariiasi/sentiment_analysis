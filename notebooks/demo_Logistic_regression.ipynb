{
 "cells": [
  {
   "cell_type": "markdown",
   "metadata": {},
   "source": [
    "# Logistic Regression Sentiment analisys\n",
    "\n",
    "Datasets are taken from:\n",
    "* nltk.download('twitter_samples')\n",
    "* nltk.download('stopwords')"
   ]
  },
  {
   "cell_type": "code",
   "execution_count": 1,
   "metadata": {},
   "outputs": [],
   "source": [
    "import sys\n",
    "sys.path.insert(0, '..')"
   ]
  },
  {
   "cell_type": "code",
   "execution_count": 4,
   "metadata": {},
   "outputs": [],
   "source": [
    "import numpy as np\n",
    "from os import path\n",
    "from src.data.make_datasets import preprocess_data\n",
    "from src.utils import build_freqs\n",
    "from src.features.make_features import extract_features\n",
    "from src.model.train_model import gradientDescent\n",
    "from src.model.evaluate_model import evaluate\n",
    "from src.utils import process_tweet"
   ]
  },
  {
   "cell_type": "markdown",
   "metadata": {},
   "source": [
    "## Preprocess the data\n",
    "\n",
    "* Train test split\n",
    "* Create arrays of positive and negative labels"
   ]
  },
  {
   "cell_type": "code",
   "execution_count": 5,
   "metadata": {},
   "outputs": [
    {
     "name": "stdout",
     "output_type": "stream",
     "text": [
      "preprocess data is running\n",
      "========= About the data: ============\n",
      "The type of all_positive_tweets is:  <class 'list'>\n",
      "The type of a tweet entry is:  <class 'str'> \n",
      "\n",
      "Number of positive tweets:  5000\n",
      "Number of negative tweets:  5000\n",
      "\n",
      "Example tweets:\n",
      "Positive: \u001b[92m@plasmov Love your author pic on the MWF programme! You're going to rock it :)\u001b[39m\n",
      "Negative: \u001b[91mI've been such a shit bestfriend.:(\u001b[39m\n",
      "\n",
      "Size of train set, its type:  8000 <class 'list'>\n",
      "Size of test set, its type:  2000 <class 'numpy.ndarray'>\n",
      "\n",
      "Type of labels = <class 'numpy.ndarray'>\n",
      "Shape of train labels =  (1, 8000)\n",
      "Shape of test labels =  (1, 2000)\n",
      "Positive label: \u001b[92m1\u001b[39m\n",
      "Negative label: \u001b[91m0\u001b[39m\n",
      "\n",
      "This is an example of a tweet: \n",
      " #FollowFriday @wncer1 @Defense_gouv for being top influencers in my community this week :)\n",
      "========= About the data END =========\n"
     ]
    },
    {
     "data": {
      "image/png": "[encoded data removed]",
      "text/plain": [
       "<Figure size 432x216 with 2 Axes>"
      ]
     },
     "metadata": {},
     "output_type": "display_data"
    }
   ],
   "source": [
    "#process data\n",
    "train_x, train_y, test_x, test_y = preprocess_data(train_size=0.8, test_size=0.2, valid_size=0.0, printInfo=True)"
   ]
  },
  {
   "cell_type": "markdown",
   "metadata": {},
   "source": [
    "## Preprocess raw text for Sentiment analysis\n",
    "\n",
    "* Tokenizing the string  (splitting the strings into individual words without blanks or tabs)\n",
    "* Lowercasing (converting each word in the string to lower case)\n",
    "* Removing stop words and punctuation\n",
    "* Stemming (stop words (as well as punctuation) are words that don't add significant meaning to the text)\n",
    "\n",
    "```python\n",
    "def process_tweet(tweet):\n",
    "    \"\"\"\n",
    "    Process tweet function.\n",
    "\n",
    "    Arguments:\n",
    "        tweet -- a string containing a tweet\n",
    "    Returns:\n",
    "        tweets_clean -- a list of words containing the processed tweet.\n",
    "\n",
    "    \"\"\"\n",
    "\n",
    "    # two levels up: path.abspath(path.join(__file__, \"../..\"))\n",
    "    filePath = path.abspath(__file__ + \"/../../\") + '/nltk_data'\n",
    "    nltk.data.path.append(filePath)\n",
    "\n",
    "    # remove stock market tickers like $GE\n",
    "    tweet = re.sub(r'\\$\\w*', '', tweet)\n",
    "\n",
    "    # remove old style retweet text \"RT\"\n",
    "    tweet = re.sub(r'^RT[\\s]+', '', tweet)\n",
    "\n",
    "    # remove hyperlinks    \n",
    "    tweet = re.sub(r'https?://[^\\s\\n\\r]+', '', tweet)\n",
    "\n",
    "    # remove hashtags by only removing the hash # sign from the word\n",
    "    tweet = re.sub(r'#', '', tweet)\n",
    "\n",
    "    # tokenize tweets\n",
    "    tokenizer = TweetTokenizer(preserve_case=False, strip_handles=True, reduce_len=True)\n",
    "    tweet_tokens = tokenizer.tokenize(tweet)\n",
    "\n",
    "    tweet_clean = []\n",
    "    for word in tweet_tokens:\n",
    "        if (word not in stopwords.words('english') and     # remove stopwords in English\n",
    "                word not in string.punctuation):           # remove punctuation\n",
    "            stem_word = PorterStemmer().stem(word)  # stemming word\n",
    "            tweet_clean.append(stem_word)\n",
    "\n",
    "    return tweet_clean\n",
    "```"
   ]
  },
  {
   "cell_type": "code",
   "execution_count": 6,
   "metadata": {},
   "outputs": [
    {
     "name": "stdout",
     "output_type": "stream",
     "text": [
      "tweet:\n",
      " #FollowFriday @wncer1 @Defense_gouv for being top influencers in my community this week :)\n",
      "\n",
      " Processed tweet: \n",
      " ['followfriday', 'top', 'influenc', 'commun', 'week', ':)']\n"
     ]
    }
   ],
   "source": [
    "print('tweet:\\n', train_x[10])\n",
    "print('\\n Processed tweet: \\n', process_tweet(train_x[10]))"
   ]
  },
  {
   "cell_type": "markdown",
   "metadata": {},
   "source": [
    "## Create the frequency dictionary \n",
    "\n",
    "* Create a dictionary mapping each (PROCESSED word, sentiment) pair to its frequency, i.e., how frequent a certain (PROCESSED word, sentiment) pair appears in the dictionary.\n",
    "\n",
    "```python\n",
    "def build_freqs(tweets, labels):\n",
    "    \"\"\"\n",
    "        Creates a dictionary mapping each (PROCESSED word, sentiment) pair to its \n",
    "        frequency, i.e.,how frequent a certain (PROCESSED word, sentiment) pair \n",
    "        appears in the dictionary.\n",
    "\n",
    "    Arguments:\n",
    "        tweets -- a list of tweets\n",
    "        ys -- an m x 1 array with the sentiment label of each tweet (either 0 or 1)\n",
    "    Returns:\n",
    "        freqs -- a dictionary mapping each (word, sentiment) pair to its frequency\n",
    "    \"\"\"\n",
    "\n",
    "    print(\"build_freqs is running\")\n",
    "    # Convert np array to list since zip needs an iterable.\n",
    "    # The squeeze is necessary or the list ends up with one element.\n",
    "    # Also note that this is just a NOP if ys is already a list.\n",
    "    labels_list = np.squeeze(labels).tolist()\n",
    "\n",
    "    # Start with an empty dictionary and populate it by looping over all tweets\n",
    "    # and over all processed words in each tweet.\n",
    "    freqs = {}\n",
    "    for y, tweet in zip(labels_list, tweets):\n",
    "        for word in process_tweet(tweet):\n",
    "            pair = (word, y)\n",
    "            if pair in freqs:\n",
    "                freqs[pair] += 1\n",
    "            else:\n",
    "                freqs[pair] = 1\n",
    "\n",
    "    return freqs\n",
    "```"
   ]
  },
  {
   "cell_type": "code",
   "execution_count": 7,
   "metadata": {},
   "outputs": [
    {
     "name": "stdout",
     "output_type": "stream",
     "text": [
      "build_freqs is running\n"
     ]
    }
   ],
   "source": [
    "#build freqs dictionary\n",
    "freqs = build_freqs(train_x, train_y)"
   ]
  },
  {
   "cell_type": "markdown",
   "metadata": {},
   "source": [
    "## Training the Model\n",
    "\n",
    "* Stack the features for all training examples into a matrix X.\n",
    "* Call gradientDescent (with logistic regression)\n",
    "\n",
    "```python\n",
    "def gradientDescent(x, y, w, b, learning_rate, num_iters, print_cost=False):\n",
    "    '''\n",
    "    A simple logistic regression model\n",
    "\n",
    "    Arguments:\n",
    "        x -- matrix of features which is (nx, m)\n",
    "        y -- corresponding labels of the input matrix x, dimensions (1, m)\n",
    "        w -- weights, a numpy array of size (nx, 1) initialized to = 0\n",
    "        b -- bias, a scalar\n",
    "        learning_rate -- learning rate of the gradient descent update rule\n",
    "        num_iters: number of iterations you want to train your model for\n",
    "    Return:\n",
    "        cost -- the final cost\n",
    "        w -- learnt weights\n",
    "        b -- learnt bias\n",
    "        costs -- list of costs\n",
    "    '''\n",
    "\n",
    "    print(\"gradientDescent is running\")\n",
    "    # get 'm', the number of rows in matrix x\n",
    "    nx, m = x.shape[0], x.shape[1]\n",
    "    costs=[]\n",
    "\n",
    "    for i in range(0, num_iters):\n",
    "        # get z, the dot product of x and theta\n",
    "        z = np.dot(w.T, x) + b\n",
    "\n",
    "        # compute activation\n",
    "        a = sigmoid(z)\n",
    "\n",
    "        # compute the cost function\n",
    "        cost = - 1 / m * np.sum(y * np.log(a) + (1 - y) * np.log(1 - a))\n",
    "        if i % 100 == 0:\n",
    "            # Print the cost every 100 training iterations\n",
    "            if print_cost:\n",
    "                print(\"Cost after iteration %i: %f\" % (i, cost))\n",
    "        costs.append(float(cost))\n",
    "        # update the weights theta\n",
    "        dw = 1 / m * np.dot(x, (a - y).T)\n",
    "        db = 1 / m * np.sum(a - y)\n",
    "\n",
    "        w = w - np.dot(learning_rate, dw)\n",
    "        b = b - np.dot(learning_rate, db)\n",
    "\n",
    "        assert w.shape == (nx, 1)\n",
    "    cost = float(cost)\n",
    "    \n",
    "    return cost, w, b, costs\n",
    "```\n",
    "\n",
    "```python\n",
    "def extract_features(tweet, freqs, process_tweet=process_tweet):\n",
    "    '''\n",
    "    This function takes in a single tweet, processes it, loops through each word in the list of processed words,\n",
    "    returns a feature vector x = (x0, x1, x2) = (1, freqs for positive word, freq for negative word)\n",
    "\n",
    "    Arguments:\n",
    "        tweet: a list of words for one tweet\n",
    "        freqs: a dictionary corresponding to the frequencies of each tuple (word, label)\n",
    "    Returns:\n",
    "        x: a feature vector of dimension (2, 1)\n",
    "    '''\n",
    "    # process_tweet tokenizes, stems, and removes stopwords\n",
    "    words = process_tweet(tweet)\n",
    "\n",
    "    # 3 elements in the form of a 1 x 3 vector\n",
    "    x = np.zeros((2, 1))\n",
    "\n",
    "    # bias term is set to 1\n",
    "    #x[0, 0] = 1\n",
    "\n",
    "    # loop through each word in the list of words\n",
    "    for word in words:\n",
    "        # increment the word count for the positive label 1\n",
    "        x[0, 0] += freqs.get((word, 1), 0)  # if a word with label=1 does not exists in the dictionary => add 0,\n",
    "                                            # othrtwise add its frequency\n",
    "\n",
    "        # increment the word count for the negative label 0\n",
    "        x[1, 0] += freqs.get((word, 0), 0)  # if a word with label=0 does not exists in the dictionary => add 0,\n",
    "                                            # othrtwise add its frequency\n",
    "\n",
    "    assert (x.shape == (2, 1))\n",
    "    return x\n",
    "```"
   ]
  },
  {
   "cell_type": "code",
   "execution_count": 9,
   "metadata": {},
   "outputs": [],
   "source": [
    "X = np.zeros((2, len(train_x)))\n",
    "for i in range(len(train_x)):\n",
    "    X[:, i] = np.squeeze(extract_features(train_x[i], freqs))"
   ]
  },
  {
   "cell_type": "code",
   "execution_count": 18,
   "metadata": {},
   "outputs": [
    {
     "name": "stdout",
     "output_type": "stream",
     "text": [
      "gradientDescent is running\n"
     ]
    }
   ],
   "source": [
    "Cost, w, b, costs = gradientDescent(X, train_y, w=np.zeros((2, 1)), b=0.0, learning_rate=1e-9, num_iters=10000, print_cost=False)"
   ]
  },
  {
   "cell_type": "code",
   "execution_count": 19,
   "metadata": {},
   "outputs": [
    {
     "data": {
      "text/plain": [
       "Text(0, 0.5, 'cost')"
      ]
     },
     "execution_count": 19,
     "metadata": {},
     "output_type": "execute_result"
    },
    {
     "data": {
      "image/png": "[encoded data removed]",
      "text/plain": [
       "<Figure size 432x288 with 1 Axes>"
      ]
     },
     "metadata": {
      "needs_background": "light"
     },
     "output_type": "display_data"
    }
   ],
   "source": [
    "import matplotlib.pyplot as plt\n",
    "\n",
    "plt.plot(costs)\n",
    "plt.xlabel('iteration')\n",
    "plt.ylabel('cost')"
   ]
  },
  {
   "cell_type": "markdown",
   "metadata": {},
   "source": [
    "## Error Analysis (misclasifications) and accuracy\n",
    "\n",
    "```python\n",
    "def evaluate(x, y, freqs, w, b, predict_tweet=predict_tweet, process_tweet=process_tweet, show_misclassifications=False):\n",
    "    \"\"\"\n",
    "    Arguments:\n",
    "        test_x -- a list of tweets\n",
    "        test_y -- (m, 1) vector with the corresponding labels for the list of tweets\n",
    "        freqs -- a dictionary with the frequency of each pair (or tuple)\n",
    "        theta -- weight vector of dimension (3, 1)\n",
    "    Returns:\n",
    "        accuracy -- (# of tweets classified correctly) / (total # of tweets)\n",
    "    \"\"\"\n",
    "\n",
    "    print(\"evaluate is running\")\n",
    "    # the list for storing predictions\n",
    "    y_hat = []\n",
    "\n",
    "    for tweet in x:\n",
    "        # get the label prediction for the tweet\n",
    "        y_pred = predict_tweet(tweet, freqs, w, b)\n",
    "\n",
    "        if y_pred > 0.5:\n",
    "            # append 1.0 to the list\n",
    "            y_hat.append(1.0)\n",
    "        else:\n",
    "            # append 0 to the list\n",
    "            y_hat.append(0.0)\n",
    "\n",
    "    # With the above implementation, y_hat is a list, but test_y is (m,1) array\n",
    "    # convert both to one-dimensional arrays in order to compare them using the '==' operator\n",
    "    accuracy = (np.asarray(y_hat) == np.squeeze(y)).sum() / len(x)\n",
    "    print(accuracy)\n",
    "\n",
    "    if show_misclassifications == True:\n",
    "        print(\"Misclassifications:\")\n",
    "        for i in range(len(y_hat)):\n",
    "            if np.abs(y[0, i] - (y_hat[i] > 0.5)) > 0:\n",
    "                print('THE RAW TWEET IS:', x[i])\n",
    "                print('THE PROCESSED TWEET IS:', process_tweet(x[i]))\n",
    "                print('%d\\t%0.8f\\t%s' % (y[0, i], y_hat[i], ' '.join(process_tweet(x[i])).encode('ascii', 'ignore')))\n",
    "\n",
    "    return accuracy\n",
    "```"
   ]
  },
  {
   "cell_type": "code",
   "execution_count": 13,
   "metadata": {},
   "outputs": [
    {
     "name": "stdout",
     "output_type": "stream",
     "text": [
      "evaluate is running\n",
      "0.995875\n",
      "Misclassifications:\n",
      "THE RAW TWEET IS: Funny how that happened when Phil was here too : )\n",
      "THE PROCESSED TWEET IS: ['funni', 'happen', 'phil']\n",
      "1\t0.00000000\tb'funni happen phil'\n",
      "THE RAW TWEET IS: Remember that one time I didn't go to flume/kaytranada/alunageorge even though I had tickets? I still want to kms. : ) : )\n",
      "THE PROCESSED TWEET IS: ['rememb', 'one', 'time', 'go', 'flume', 'kaytranada', 'alunageorg', 'even', 'though', 'ticket', 'still', 'want', 'km']\n",
      "1\t0.00000000\tb'rememb one time go flume kaytranada alunageorg even though ticket still want km'\n",
      "THE RAW TWEET IS: @ellekagaoan @chinmarquez Catch up once in a while :( &gt;:D&lt; @aditriphosphate @ErinMonzon\n",
      "THE PROCESSED TWEET IS: ['catch', ':(', '>:d']\n",
      "1\t0.00000000\tb'catch :( >:d'\n",
      "THE RAW TWEET IS: @_sarah_mae omg you can't just tell this and don't say more :p can't wait to know !!!! ❤️\n",
      "THE PROCESSED TWEET IS: ['omg', \"can't\", 'tell', 'say', ':p', \"can't\", 'wait', 'know', '❤', '️']\n",
      "1\t0.00000000\tb\"omg can't tell say :p can't wait know  \"\n",
      "THE RAW TWEET IS: I ATE YOUR LAST COOKIE SHIR0 &gt;:D\n",
      "THE PROCESSED TWEET IS: ['ate', 'last', 'cooki', 'shir', '0', '>:d']\n",
      "1\t0.00000000\tb'ate last cooki shir 0 >:d'\n",
      "THE RAW TWEET IS: You´ve got me in chains for your love :´( — a sentir-se incompleta\n",
      "THE PROCESSED TWEET IS: ['´', 'got', 'chain', 'love', '´', '—', 'sentir-s', 'incompleta']\n",
      "0\t1.00000000\tb' got chain love   sentir-s incompleta'\n",
      "THE RAW TWEET IS: @pastelwolfxx @CHA_NNNNN niNASTY tsktsk oppa wont like u call his dick kawaii he is manly &gt;:( http://t.co/83cUgt7qQ3\n",
      "THE PROCESSED TWEET IS: ['ninasti', 'tsktsk', 'oppa', 'wont', 'like', 'u', 'call', 'dick', 'kawaii', 'manli', '>:(']\n",
      "0\t1.00000000\tb'ninasti tsktsk oppa wont like u call dick kawaii manli >:('\n",
      "THE RAW TWEET IS: @_awkwardraven Will do Senpai &gt;:( -looks up on all of buttsex-\n",
      "THE PROCESSED TWEET IS: ['senpai', '>:(', 'look', 'buttsex']\n",
      "0\t1.00000000\tb'senpai >:( look buttsex'\n",
      "THE RAW TWEET IS: i hate u &gt;.&lt; &gt;:( #H_My_King\n",
      "THE PROCESSED TWEET IS: ['hate', 'u', '>:(', 'h_my_k']\n",
      "0\t1.00000000\tb'hate u >:( h_my_k'\n",
      "THE RAW TWEET IS: @samayanyan yes thank u!! Oh damn that hella sucks :-( but at least u had a really good time that's all that matters\n",
      "THE PROCESSED TWEET IS: ['ye', 'thank', 'u', 'oh', 'damn', 'hella', 'suck', ':-(', 'least', 'u', 'realli', 'good', 'time', \"that'\", 'matter']\n",
      "0\t1.00000000\tb\"ye thank u oh damn hella suck :-( least u realli good time that' matter\"\n",
      "THE RAW TWEET IS: BECAUSE THAT'S YOUR GOAT MINO : (\n",
      "THE PROCESSED TWEET IS: [\"that'\", 'goat', 'mino']\n",
      "0\t1.00000000\tb\"that' goat mino\"\n",
      "THE RAW TWEET IS: @LBHCRM hi beb :  ( i have a really bad migraine. sorry i wasn't on a lot today but i'm in a lot of pain : ( i'm gonna rest more. i love you\n",
      "THE PROCESSED TWEET IS: ['hi', 'beb', 'realli', 'bad', 'migrain', 'sorri', 'lot', 'today', 'lot', 'pain', 'gonna', 'rest', 'love']\n",
      "0\t1.00000000\tb'hi beb realli bad migrain sorri lot today lot pain gonna rest love'\n",
      "THE RAW TWEET IS: BEAST NEXT WEEK!!! : (\n",
      "THE PROCESSED TWEET IS: ['beast', 'next', 'week']\n",
      "0\t1.00000000\tb'beast next week'\n",
      "THE RAW TWEET IS: @madjade24 @bocababy26 :C you don't know? :C daddy doesn't know? &gt;:(\n",
      "THE PROCESSED TWEET IS: ['c', 'know', 'c', 'daddi', 'know', '>:(']\n",
      "0\t1.00000000\tb'c know c daddi know >:('\n",
      "THE RAW TWEET IS: @Israelgirly They sure do, esp now when ppl are talking crap about Millie!! &gt;:( I'll go straight to that FB page:)\n",
      "THE PROCESSED TWEET IS: ['sure', 'esp', 'ppl', 'talk', 'crap', 'milli', '>:(', \"i'll\", 'go', 'straight', 'fb', 'page', ':)']\n",
      "0\t1.00000000\tb\"sure esp ppl talk crap milli >:( i'll go straight fb page :)\"\n",
      "THE RAW TWEET IS: @kiyomitsucashew it kInda does :-( and thank you!!! ill def do th\n",
      "THE PROCESSED TWEET IS: ['kinda', ':-(', 'thank', 'ill', 'def', 'th']\n",
      "0\t1.00000000\tb'kinda :-( thank ill def th'\n",
      "THE RAW TWEET IS: true : ((( https://t.co/hfGyVJQ5RA\n",
      "THE PROCESSED TWEET IS: ['true']\n",
      "0\t1.00000000\tb'true'\n",
      "THE RAW TWEET IS: @OTRRM : ( i'm like your major fan (!!) i just have this bias syndrome that i get shy around my biases : ((((\n",
      "THE PROCESSED TWEET IS: ['like', 'major', 'fan', 'bia', 'syndrom', 'get', 'shi', 'around', 'bias']\n",
      "0\t1.00000000\tb'like major fan bia syndrom get shi around bias'\n",
      "THE RAW TWEET IS: @wtfxmbs AMBS please it's harry's jeans :)):):):(\n",
      "THE PROCESSED TWEET IS: ['amb', 'pleas', \"harry'\", 'jean', ':)', '):', '):', '):']\n",
      "0\t1.00000000\tb\"amb pleas harry' jean :) ): ): ):\"\n",
      "THE RAW TWEET IS: @chuchuxiu thats so mean!!&gt;:( i dont like him how rude! also aww bc they had to keep u away from the snake:/ damn they shouldve moved him\n",
      "THE PROCESSED TWEET IS: ['that', 'mean', '>:(', 'dont', 'like', 'rude', 'also', 'aww', 'bc', 'keep', 'u', 'away', 'snake', ':/', 'damn', 'shouldv', 'move']\n",
      "0\t1.00000000\tb'that mean >:( dont like rude also aww bc keep u away snake :/ damn shouldv move'\n",
      "THE RAW TWEET IS: laomma design; Kebaya &amp; Wedding Dress. Bandung - Indonesia\n",
      "LINE: laomma, \n",
      "7DF89150\n",
      "WHATSAPP : (+62) 089624641747\n",
      "Instagram : Laomma_Couture\n",
      "THE PROCESSED TWEET IS: ['laomma', 'design', 'kebaya', 'wed', 'dress', 'bandung', 'indonesia', 'line', 'laomma', '7df89150', 'whatsapp', '62', '08962464174', '7', 'instagram', 'laomma_coutur']\n",
      "0\t1.00000000\tb'laomma design kebaya wed dress bandung indonesia line laomma 7df89150 whatsapp 62 08962464174 7 instagram laomma_coutur'\n",
      "THE RAW TWEET IS: And oh great, I'm sharing a carriage with a group of middle aged women in pink fur-trimmed stetsons. They've started drinking already &gt;:(\n",
      "THE PROCESSED TWEET IS: ['oh', 'great', 'share', 'carriag', 'group', 'middl', 'age', 'women', 'pink', 'fur-trim', 'stetson', \"they'v\", 'start', 'drink', 'alreadi', '>:(']\n",
      "0\t1.00000000\tb\"oh great share carriag group middl age women pink fur-trim stetson they'v start drink alreadi >:(\"\n",
      "THE RAW TWEET IS: @yongshwa huhu i know :-( thanks before satya! xx\n",
      "THE PROCESSED TWEET IS: ['huhu', 'know', ':-(', 'thank', 'satya', 'xx']\n",
      "0\t1.00000000\tb'huhu know :-( thank satya xx'\n",
      "THE RAW TWEET IS: i love got7's outfit for just right &gt;:( its so fun\n",
      "THE PROCESSED TWEET IS: ['love', 'got', '7', 'outfit', 'right', '>:(', 'fun']\n",
      "0\t1.00000000\tb'love got 7 outfit right >:( fun'\n",
      "THE RAW TWEET IS: shakes my head repeatedly. nu-uh, jace, i love you the mostest! &gt; : (\n",
      "THE PROCESSED TWEET IS: ['shake', 'head', 'repeatedli', 'nu-uh', 'jace', 'love', 'mostest']\n",
      "0\t1.00000000\tb'shake head repeatedli nu-uh jace love mostest'\n",
      "THE RAW TWEET IS: ITS BEEN SO LONG ED LOVE YOU SEE U SOON :-((( @thepohjien\n",
      "THE PROCESSED TWEET IS: ['long', 'ed', 'love', 'see', 'u', 'soon', ':-(']\n",
      "0\t1.00000000\tb'long ed love see u soon :-('\n",
      "THE RAW TWEET IS: “@RobinhoodApp: We love spotting Robinhood out in the wild! Thanks for all the support out there, Robinhoodies! 🚙💚 http://t.co/bK6z2WhXMK”:(\n",
      "THE PROCESSED TWEET IS: ['“', 'love', 'spot', 'robinhood', 'wild', 'thank', 'support', 'robinhoodi', '🚙', '💚']\n",
      "0\t1.00000000\tb' love spot robinhood wild thank support robinhoodi  '\n",
      "THE RAW TWEET IS: @hinata_shouyno fuck u Neil u ruined it &gt;:-(\n",
      "THE PROCESSED TWEET IS: ['fuck', 'u', 'neil', 'u', 'ruin', '>:-(']\n",
      "0\t1.00000000\tb'fuck u neil u ruin >:-('\n",
      "THE RAW TWEET IS: @Mickb1980 @CalderClarion @ev2cycling Looks good pal. Glad I paid £111 for my jersey and gilet! : (\n",
      "THE PROCESSED TWEET IS: ['look', 'good', 'pal', 'glad', 'paid', '£', '111', 'jersey', 'gilet']\n",
      "0\t1.00000000\tb'look good pal glad paid  111 jersey gilet'\n",
      "THE RAW TWEET IS: Jeb Bush calls #BlackLivesMatter a 'slogan' http://t.co/AFejQqyUsO via @msnbc\n",
      "\n",
      "#MSNBC #CNN\n",
      "\n",
      "(#JEBBush thanking his lucky stars... :-(\n",
      "THE PROCESSED TWEET IS: ['jeb', 'bush', 'call', 'blacklivesmatt', 'slogan', 'via', 'msnbc', 'cnn', 'jebbush', 'thank', 'lucki', 'star', '...', ':-(']\n",
      "0\t1.00000000\tb'jeb bush call blacklivesmatt slogan via msnbc cnn jebbush thank lucki star ... :-('\n",
      "THE RAW TWEET IS: @exostrash14 my parents don't let me &gt;:(\n",
      "THE PROCESSED TWEET IS: ['parent', 'let', '>:(']\n",
      "0\t1.00000000\tb'parent let >:('\n",
      "THE RAW TWEET IS: @GODDAMMlT SRSLY FUCK U UNFOLLOWER HOPE UR FUTURE CHILD UNPARENTS U &gt;:-(\n",
      "THE PROCESSED TWEET IS: ['srsli', 'fuck', 'u', 'unfollow', 'hope', 'ur', 'futur', 'child', 'unpar', 'u', '>:-(']\n",
      "0\t1.00000000\tb'srsli fuck u unfollow hope ur futur child unpar u >:-('\n",
      "THE RAW TWEET IS: @soarcasm Bianca \n",
      "\n",
      "Ur one and only bun : (\n",
      "THE PROCESSED TWEET IS: ['bianca', 'ur', 'one', 'bun']\n",
      "0\t1.00000000\tb'bianca ur one bun'\n"
     ]
    }
   ],
   "source": [
    "train_accuracy = evaluate(train_x, train_y, freqs, w, b, show_misclassifications=True)"
   ]
  },
  {
   "cell_type": "code",
   "execution_count": 14,
   "metadata": {},
   "outputs": [
    {
     "name": "stdout",
     "output_type": "stream",
     "text": [
      "evaluate is running\n",
      "0.996\n",
      "Misclassifications:\n",
      "THE RAW TWEET IS: @msarosh Uff Itna Miss karhy thy ap :p\n",
      "THE PROCESSED TWEET IS: ['uff', 'itna', 'miss', 'karhi', 'thi', 'ap', ':p']\n",
      "1\t0.00000000\tb'uff itna miss karhi thi ap :p'\n",
      "THE RAW TWEET IS: @phenomyoutube u probs had more fun with david than me : (\n",
      "THE PROCESSED TWEET IS: ['u', 'prob', 'fun', 'david']\n",
      "0\t1.00000000\tb'u prob fun david'\n",
      "THE RAW TWEET IS: pats jay : (\n",
      "THE PROCESSED TWEET IS: ['pat', 'jay']\n",
      "0\t1.00000000\tb'pat jay'\n",
      "THE RAW TWEET IS: @bae_ts WHATEVER STIL L YOUNG &gt;:-(\n",
      "THE PROCESSED TWEET IS: ['whatev', 'stil', 'l', 'young', '>:-(']\n",
      "0\t1.00000000\tb'whatev stil l young >:-('\n",
      "THE RAW TWEET IS: my beloved grandmother : ( https://t.co/wt4oXq5xCf\n",
      "THE PROCESSED TWEET IS: ['belov', 'grandmoth']\n",
      "0\t1.00000000\tb'belov grandmoth'\n",
      "THE RAW TWEET IS: @CHEDA_KHAN Thats life. I get calls from people I havent seen in 20 years and its always favours : (\n",
      "THE PROCESSED TWEET IS: ['that', 'life', 'get', 'call', 'peopl', 'havent', 'seen', '20', 'year', 'alway', 'favour']\n",
      "0\t1.00000000\tb'that life get call peopl havent seen 20 year alway favour'\n",
      "THE RAW TWEET IS: Sr. Financial Analyst - Expedia, Inc.: (#Bellevue, WA) http://t.co/ktknMhvwCI #Finance #ExpediaJobs #Job #Jobs #Hiring\n",
      "THE PROCESSED TWEET IS: ['sr', 'financi', 'analyst', 'expedia', 'inc', 'bellevu', 'wa', 'financ', 'expediajob', 'job', 'job', 'hire']\n",
      "0\t1.00000000\tb'sr financi analyst expedia inc bellevu wa financ expediajob job job hire'\n",
      "THE RAW TWEET IS: @ITVCentral #Midlands Yes thanks for the depressing weather forecast, where the word 'rain' was mentioned several times :-(\n",
      "THE PROCESSED TWEET IS: ['midland', 'ye', 'thank', 'depress', 'weather', 'forecast', 'word', 'rain', 'mention', 'sever', 'time', ':-(']\n",
      "0\t1.00000000\tb'midland ye thank depress weather forecast word rain mention sever time :-('\n"
     ]
    }
   ],
   "source": [
    "test_accuracy = evaluate(test_x, test_y, freqs, w, b, show_misclassifications=True)"
   ]
  },
  {
   "cell_type": "code",
   "execution_count": 16,
   "metadata": {},
   "outputs": [
    {
     "name": "stdout",
     "output_type": "stream",
     "text": [
      "train/test acuracies: 0.995875 0.996\n"
     ]
    }
   ],
   "source": [
    "print('train/test acuracies:', train_accuracy, test_accuracy)"
   ]
  },
  {
   "cell_type": "code",
   "execution_count": null,
   "metadata": {},
   "outputs": [],
   "source": []
  }
 ],
 "metadata": {
  "kernelspec": {
   "display_name": "Python 3",
   "language": "python",
   "name": "python3"
  },
  "language_info": {
   "codemirror_mode": {
    "name": "ipython",
    "version": 3
   },
   "file_extension": ".py",
   "mimetype": "text/x-python",
   "name": "python",
   "nbconvert_exporter": "python",
   "pygments_lexer": "ipython3",
   "version": "3.8.5"
  }
 },
 "nbformat": 4,
 "nbformat_minor": 4
}
